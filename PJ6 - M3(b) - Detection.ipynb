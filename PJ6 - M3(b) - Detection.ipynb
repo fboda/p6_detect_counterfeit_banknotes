{
 "cells": [
  {
   "cell_type": "code",
   "execution_count": 1,
   "metadata": {},
   "outputs": [
    {
     "name": "stdout",
     "output_type": "stream",
     "text": [
      "D:\\DATA_ANALYST\\WORK\\PJ6\\DATA\n"
     ]
    }
   ],
   "source": [
    "# -*- coding: utf8 -*-\n",
    "import time   # Librairie temps pour calculs durée par exemple\n",
    "trt_start_time = time.time()\n",
    "\n",
    "from pj6_m3program import *\n",
    "\n",
    "%cd DATA"
   ]
  },
  {
   "cell_type": "code",
   "execution_count": 2,
   "metadata": {},
   "outputs": [
    {
     "name": "stdout",
     "output_type": "stream",
     "text": [
      "\n",
      "\n",
      "\n",
      "Veuillez renseigner le nom du fichier 'Reference' initial qui sera utilisé pour entrainer le modèle de Régression Logistique.\n",
      "Indiquez son chemin éventuel s'il n'est pas dans le répertoire 'en cours' et SANS l'extension(csv)).\n",
      "Si blanc, le fichier par defaut sera : DATA/notes.csv\n",
      "Fichier Reference =  \n",
      "\n",
      "Veuillez entrer le nom de votre fichier csv (SANS l'extension) : \n",
      "\n",
      "Si blanc, le fichier de test utilisé sera : DATA/test_model.csv\n",
      "\n",
      "Nombre de billets :  5\n"
     ]
    },
    {
     "data": {
      "text/html": [
       "<div>\n",
       "<style scoped>\n",
       "    .dataframe tbody tr th:only-of-type {\n",
       "        vertical-align: middle;\n",
       "    }\n",
       "\n",
       "    .dataframe tbody tr th {\n",
       "        vertical-align: top;\n",
       "    }\n",
       "\n",
       "    .dataframe thead th {\n",
       "        text-align: right;\n",
       "    }\n",
       "</style>\n",
       "<table border=\"1\" class=\"dataframe\">\n",
       "  <thead>\n",
       "    <tr style=\"text-align: right;\">\n",
       "      <th></th>\n",
       "      <th>diagonal</th>\n",
       "      <th>height_left</th>\n",
       "      <th>height_right</th>\n",
       "      <th>margin_low</th>\n",
       "      <th>margin_up</th>\n",
       "      <th>length</th>\n",
       "      <th>id</th>\n",
       "      <th>predict</th>\n",
       "      <th>Probabilité d'authenticité(%)</th>\n",
       "    </tr>\n",
       "  </thead>\n",
       "  <tbody>\n",
       "    <tr>\n",
       "      <th>0</th>\n",
       "      <td>171.76</td>\n",
       "      <td>104.01</td>\n",
       "      <td>103.54</td>\n",
       "      <td>5.21</td>\n",
       "      <td>3.30</td>\n",
       "      <td>111.42</td>\n",
       "      <td>A_1</td>\n",
       "      <td>False</td>\n",
       "      <td>2.64</td>\n",
       "    </tr>\n",
       "    <tr>\n",
       "      <th>1</th>\n",
       "      <td>171.87</td>\n",
       "      <td>104.17</td>\n",
       "      <td>104.13</td>\n",
       "      <td>6.00</td>\n",
       "      <td>3.31</td>\n",
       "      <td>112.09</td>\n",
       "      <td>A_2</td>\n",
       "      <td>False</td>\n",
       "      <td>48.98</td>\n",
       "    </tr>\n",
       "    <tr>\n",
       "      <th>2</th>\n",
       "      <td>172.00</td>\n",
       "      <td>104.58</td>\n",
       "      <td>104.29</td>\n",
       "      <td>4.99</td>\n",
       "      <td>3.39</td>\n",
       "      <td>111.57</td>\n",
       "      <td>A_3</td>\n",
       "      <td>True</td>\n",
       "      <td>97.51</td>\n",
       "    </tr>\n",
       "    <tr>\n",
       "      <th>3</th>\n",
       "      <td>172.49</td>\n",
       "      <td>104.55</td>\n",
       "      <td>104.34</td>\n",
       "      <td>4.44</td>\n",
       "      <td>3.03</td>\n",
       "      <td>113.20</td>\n",
       "      <td>A_4</td>\n",
       "      <td>True</td>\n",
       "      <td>100.00</td>\n",
       "    </tr>\n",
       "    <tr>\n",
       "      <th>4</th>\n",
       "      <td>171.65</td>\n",
       "      <td>103.63</td>\n",
       "      <td>103.56</td>\n",
       "      <td>3.77</td>\n",
       "      <td>3.16</td>\n",
       "      <td>113.33</td>\n",
       "      <td>A_5</td>\n",
       "      <td>False</td>\n",
       "      <td>0.88</td>\n",
       "    </tr>\n",
       "  </tbody>\n",
       "</table>\n",
       "</div>"
      ],
      "text/plain": [
       "   diagonal  height_left  height_right  margin_low  margin_up  length   id  \\\n",
       "0    171.76       104.01        103.54        5.21       3.30  111.42  A_1   \n",
       "1    171.87       104.17        104.13        6.00       3.31  112.09  A_2   \n",
       "2    172.00       104.58        104.29        4.99       3.39  111.57  A_3   \n",
       "3    172.49       104.55        104.34        4.44       3.03  113.20  A_4   \n",
       "4    171.65       103.63        103.56        3.77       3.16  113.33  A_5   \n",
       "\n",
       "   predict  Probabilité d'authenticité(%)  \n",
       "0    False                           2.64  \n",
       "1    False                          48.98  \n",
       "2     True                          97.51  \n",
       "3     True                         100.00  \n",
       "4    False                           0.88  "
      ]
     },
     "metadata": {},
     "output_type": "display_data"
    },
    {
     "name": "stdout",
     "output_type": "stream",
     "text": [
      "--- Durée TOTALE du Notebook PJ6 Test Model ---  3.50953 seconds\n"
     ]
    }
   ],
   "source": [
    "try:\n",
    "    # Chargement du fichier à Evaluer et Préformattage (acp) avant application Modèle\n",
    "    print(\"\\n\" * 2)\n",
    "    print(\"Veuillez renseigner le nom du fichier 'Reference' initial qui sera utilisé pour \\\n",
    "entrainer le modèle de Régression Logistique.\")\n",
    "    print(\"Indiquez son chemin éventuel s'il n'est pas dans le répertoire 'en cours' et SANS l'extension(csv)).\")\n",
    "    print(\"Si blanc, le fichier par defaut sera : DATA/notes.csv\")\n",
    "    ref_file = input(\"Fichier Reference =  \")\n",
    "    if ref_file == \"\":\n",
    "        ref_file = \"notes\"\n",
    "    print(\"\")\n",
    "    ref = pd.read_csv(ref_file +\".csv\")\n",
    "    \n",
    "    try:\n",
    "        # Chargement du fichier à Evaluer et Préformattage (acp) avant application Modèle\n",
    "        test_file = input(\"Veuillez entrer le nom de votre fichier csv (SANS l'extension) : \")\n",
    "        print(\"\")\n",
    "        print(\"Si blanc, le fichier de test utilisé sera : DATA/test_model.csv\")\n",
    "        if test_file == \"\":\n",
    "            test_file = \"test_model\"\n",
    "        print(\"\")\n",
    "        ex = pd.read_csv(test_file +\".csv\")\n",
    "        ctrl_note(ref, ex)\n",
    "        ex.to_excel(test_file+\"_RESULTAT_ANALYSE.xlsx\")\n",
    "        display(ex)\n",
    "       \n",
    "    except FileNotFoundError:\n",
    "        print(\"\")\n",
    "        print(120*'/')\n",
    "        print(\"\")\n",
    "        print(\"   LE FICHIER A TESTER \", test_file +\".csv\", \"  N'AS PAS ETE TROUVE OU EST INCORRECT !!!\")\n",
    "        print(\"\")\n",
    "        print(120*'/') # print(*50*('/',), sep='_')\n",
    "    \n",
    "except FileNotFoundError:\n",
    "    print(\"\")\n",
    "    print(120*'/') # print(*50*('/',), sep='_')\n",
    "    print(\"\")\n",
    "    print(\"   LE FICHIER DE REFERENCE \", ref_file +\".csv\", \"  N'AS PAS ETE TROUVE OU EST INCORRECT !!!\")\n",
    "    print(\"\")\n",
    "    print(120*'/')\n",
    "    \n",
    "dureetotale = round(time.time() - trt_start_time, 5)\n",
    "print(\"--- Durée TOTALE du Notebook PJ6 Test Model --- \", \"%s seconds\" % dureetotale)"
   ]
  }
 ],
 "metadata": {
  "kernelspec": {
   "display_name": "Python 3",
   "language": "python",
   "name": "python3"
  },
  "language_info": {
   "codemirror_mode": {
    "name": "ipython",
    "version": 3
   },
   "file_extension": ".py",
   "mimetype": "text/x-python",
   "name": "python",
   "nbconvert_exporter": "python",
   "pygments_lexer": "ipython3",
   "version": "3.7.6"
  },
  "varInspector": {
   "cols": {
    "lenName": 16,
    "lenType": 16,
    "lenVar": 40
   },
   "kernels_config": {
    "python": {
     "delete_cmd_postfix": "",
     "delete_cmd_prefix": "del ",
     "library": "var_list.py",
     "varRefreshCmd": "print(var_dic_list())"
    },
    "r": {
     "delete_cmd_postfix": ") ",
     "delete_cmd_prefix": "rm(",
     "library": "var_list.r",
     "varRefreshCmd": "cat(var_dic_list()) "
    }
   },
   "position": {
    "height": "432.667px",
    "left": "610.667px",
    "right": "20px",
    "top": "132px",
    "width": "607.667px"
   },
   "types_to_exclude": [
    "module",
    "function",
    "builtin_function_or_method",
    "instance",
    "_Feature"
   ],
   "window_display": false
  }
 },
 "nbformat": 4,
 "nbformat_minor": 2
}
